{
 "cells": [
  {
   "cell_type": "markdown",
   "source": [
    "### This is a notebook for EDA & Building Time Prediction Model"
   ],
   "metadata": {
    "collapsed": false
   },
   "id": "71642fd97655078b"
  },
  {
   "cell_type": "code",
   "outputs": [],
   "source": [],
   "metadata": {
    "collapsed": false
   },
   "id": "e7be49c99d256003"
  },
  {
   "cell_type": "code",
   "outputs": [],
   "source": [],
   "metadata": {
    "collapsed": false
   },
   "id": "e07df4cd5df73550"
  },
  {
   "cell_type": "code",
   "outputs": [],
   "source": [
    "columns = ['Limited access to healthy foods raw value']"
   ],
   "metadata": {
    "collapsed": false
   },
   "id": "3788506c094795d3"
  }
 ],
 "metadata": {
  "kernelspec": {
   "display_name": "Python 3",
   "language": "python",
   "name": "python3"
  },
  "language_info": {
   "codemirror_mode": {
    "name": "ipython",
    "version": 2
   },
   "file_extension": ".py",
   "mimetype": "text/x-python",
   "name": "python",
   "nbconvert_exporter": "python",
   "pygments_lexer": "ipython2",
   "version": "2.7.6"
  }
 },
 "nbformat": 4,
 "nbformat_minor": 5
}
